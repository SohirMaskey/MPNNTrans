{
 "cells": [
  {
   "cell_type": "code",
   "execution_count": 1,
   "id": "a00bedb7",
   "metadata": {},
   "outputs": [
    {
     "name": "stderr",
     "output_type": "stream",
     "text": [
      "14:27:11|TQ-INFO| Initializing torchquad.\n",
      "14:27:11|TQ-INFO| __pyTorch VERSION:<module 'torch.version' from '/home/math/maskey/anaconda3/envs/pyg_cuda102/lib/python3.8/site-packages/torch/version.py'>\n",
      "14:27:11|TQ-INFO| __CUDNN VERSION:7605\n",
      "14:27:11|TQ-INFO| __Number of CUDA Devices:2\n",
      "14:27:11|TQ-INFO| Active CUDA Device: GPU0\n",
      "14:27:11|TQ-INFO| Setting default tensor type to cuda.Float32 (CUDA is initialized).\n"
     ]
    }
   ],
   "source": [
    "#!/usr/bin/env python\n",
    "# coding: utf-8\n",
    "\n",
    "# In[1]:\n",
    "\n",
    "\n",
    "import pickle #for saving and loading the dataset\n",
    "import _pickle as cPickle\n",
    "\n",
    "import numpy as np\n",
    "import networkx as nx\n",
    "import torch\n",
    "from torch_geometric.data import Data\n",
    "import time\n",
    "\n",
    "\n",
    "# In[2]:\n",
    "\n",
    "\n",
    "import random\n",
    "from torch_geometric.utils import from_networkx\n",
    "\n",
    "import matplotlib.pyplot as plt\n",
    "\n",
    "# In[13]:\n",
    "\n",
    "\n",
    "# For plotting\n",
    "\n",
    "# To avoid copying things to GPU memory,\n",
    "# ideally allocate everything in torch on the GPU\n",
    "# and avoid non-torch function calls\n",
    "torch.set_printoptions(precision=10) # Set displayed output precision to 10 digits\n",
    "\n",
    "from torchquad import enable_cuda # Necessary to enable GPU support\n",
    "from torchquad import Trapezoid, Simpson, Boole, MonteCarlo, VEGAS # The available integrators\n",
    "import torchquad\n",
    "\n",
    "\n",
    "# In[3]:\n",
    "\n",
    "\n",
    "from torch_geometric.nn import SAGEConv\n",
    "\n",
    "enable_cuda() # Use this to enable GPU support"
   ]
  },
  {
   "cell_type": "code",
   "execution_count": 2,
   "id": "815c7c95",
   "metadata": {},
   "outputs": [],
   "source": [
    "from torch.utils.data import ConcatDataset"
   ]
  },
  {
   "cell_type": "code",
   "execution_count": 3,
   "id": "dafea253",
   "metadata": {},
   "outputs": [],
   "source": [
    "N = 502 #How large shall the graphs become?\n",
    "skip = 100 #Should we consider all graphs, or only every skip'th\n",
    "r = 0.2"
   ]
  },
  {
   "cell_type": "code",
   "execution_count": 4,
   "id": "b31099fc",
   "metadata": {},
   "outputs": [],
   "source": [
    "datasetList2 = []\n",
    "positions2 = []\n",
    "graphSignals2 = []"
   ]
  },
  {
   "cell_type": "code",
   "execution_count": 7,
   "id": "56d89dea",
   "metadata": {},
   "outputs": [
    {
     "name": "stdout",
     "output_type": "stream",
     "text": [
      "1 0.002440214157104492\n",
      "101 0.0016727447509765625\n",
      "201 0.003554821014404297\n",
      "301 0.0021064281463623047\n",
      "401 0.0018928050994873047\n",
      "501 0.0027146339416503906\n"
     ]
    }
   ],
   "source": [
    "for j in range(1,N,skip):\n",
    "    start = time.time()\n",
    "\n",
    "    with open('../input/OldData/RGG_' + str(j) +'.pickle', 'rb') as data:\n",
    "        graph = pickle.load(data)\n",
    "    with open('../input/OldData/graph_signal_' + str(j) +'.pickle', 'rb') as data:\n",
    "        graph_signal = pickle.load(data)  \n",
    "    with open('../input/OldData/pos_' + str(j) +'.pickle', 'rb') as data:\n",
    "        pos = pickle.load(data)\n",
    "    positions2.append(pos)\n",
    "    datasetList2.append(graph)\n",
    "    graphSignals2.append(graph_signal)\n",
    "    \n",
    "    end = time.time()\n",
    "    print(j, end-start)"
   ]
  },
  {
   "cell_type": "code",
   "execution_count": 8,
   "id": "97bad451",
   "metadata": {},
   "outputs": [],
   "source": [
    "with open('../input/graphDataset_' + str(N) + 'Nodes'+ '.pickle', 'wb') as output:\n",
    "    pickle.dump(datasetList2, output)\n",
    "with open('../input/graphSignalDataset_' + str(N) + 'Nodes'+ '.pickle', 'wb') as output:\n",
    "    pickle.dump(graphSignals2, output)\n",
    "with open('../input/positionsDataset_' + str(N) + 'Nodes'+ '.pickle', 'wb') as output:\n",
    "    pickle.dump(positions2, output)"
   ]
  },
  {
   "cell_type": "code",
   "execution_count": null,
   "id": "ca2b85a5",
   "metadata": {},
   "outputs": [],
   "source": []
  }
 ],
 "metadata": {
  "kernelspec": {
   "display_name": "Python 3",
   "language": "python",
   "name": "python3"
  },
  "language_info": {
   "codemirror_mode": {
    "name": "ipython",
    "version": 3
   },
   "file_extension": ".py",
   "mimetype": "text/x-python",
   "name": "python",
   "nbconvert_exporter": "python",
   "pygments_lexer": "ipython3",
   "version": "3.8.12"
  }
 },
 "nbformat": 4,
 "nbformat_minor": 5
}
