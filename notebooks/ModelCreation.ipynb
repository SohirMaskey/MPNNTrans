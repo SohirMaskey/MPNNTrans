{
 "cells": [
  {
   "cell_type": "code",
   "execution_count": 1,
   "id": "4b4f9822",
   "metadata": {},
   "outputs": [
    {
     "name": "stderr",
     "output_type": "stream",
     "text": [
      "16:42:57|TQ-INFO| Initializing torchquad.\n",
      "16:42:58|TQ-INFO| __pyTorch VERSION:<module 'torch.version' from '/home/math/maskey/anaconda3/envs/pyg_cuda102/lib/python3.8/site-packages/torch/version.py'>\n",
      "16:42:58|TQ-INFO| __CUDNN VERSION:7605\n",
      "16:42:58|TQ-INFO| __Number of CUDA Devices:1\n",
      "16:42:58|TQ-INFO| Active CUDA Device: GPU0\n",
      "16:42:58|TQ-INFO| Setting default tensor type to cuda.Float32 (CUDA is initialized).\n"
     ]
    }
   ],
   "source": [
    "#!/usr/bin/env python\n",
    "# coding: utf-8\n",
    "\n",
    "# In[1]:\n",
    "\n",
    "\n",
    "import pickle #for saving and loading the dataset\n",
    "\n",
    "import numpy as np\n",
    "import networkx as nx\n",
    "import torch\n",
    "from torch_geometric.data import Data\n",
    "import time\n",
    "\n",
    "\n",
    "# In[2]:\n",
    "\n",
    "\n",
    "import random\n",
    "from torch_geometric.utils import from_networkx\n",
    "\n",
    "import matplotlib.pyplot as plt\n",
    "\n",
    "# In[13]:\n",
    "\n",
    "\n",
    "# For plotting\n",
    "\n",
    "# To avoid copying things to GPU memory,\n",
    "# ideally allocate everything in torch on the GPU\n",
    "# and avoid non-torch function calls\n",
    "torch.set_printoptions(precision=10) # Set displayed output precision to 10 digits\n",
    "\n",
    "from torchquad import enable_cuda # Necessary to enable GPU support\n",
    "from torchquad import Trapezoid, Simpson, Boole, MonteCarlo, VEGAS # The available integrators\n",
    "import torchquad\n",
    "\n",
    "\n",
    "# In[3]:\n",
    "\n",
    "\n",
    "from torch_geometric.nn import SAGEConv\n",
    "\n",
    "enable_cuda() # Use this to enable GPU support"
   ]
  },
  {
   "cell_type": "code",
   "execution_count": 2,
   "id": "ab10fdad",
   "metadata": {},
   "outputs": [],
   "source": [
    "import sys\n",
    "sys.path.insert(1,'../src')\n",
    "from DataLoader import RGGDataset"
   ]
  },
  {
   "cell_type": "code",
   "execution_count": 3,
   "id": "8369ff4a",
   "metadata": {},
   "outputs": [],
   "source": [
    "DL = RGGDataset(root = '../input')"
   ]
  },
  {
   "cell_type": "code",
   "execution_count": 4,
   "id": "0c472d6e",
   "metadata": {},
   "outputs": [],
   "source": [
    "data = DL.get(101)"
   ]
  },
  {
   "cell_type": "code",
   "execution_count": 5,
   "id": "621f11ea",
   "metadata": {},
   "outputs": [],
   "source": [
    "graphSage = SAGEConv(DL.get(101).num_node_features,1 ,root_weight = False, bias = False)"
   ]
  },
  {
   "cell_type": "code",
   "execution_count": 6,
   "id": "0da2df78",
   "metadata": {},
   "outputs": [],
   "source": [
    "device = torch.device('cuda' if torch.cuda.is_available() else 'cpu')\n",
    "graphSage = graphSage.to(device)"
   ]
  },
  {
   "cell_type": "code",
   "execution_count": 7,
   "id": "e009893f",
   "metadata": {},
   "outputs": [],
   "source": [
    "data = data.to(device)"
   ]
  },
  {
   "cell_type": "code",
   "execution_count": 8,
   "id": "a6b28583",
   "metadata": {},
   "outputs": [],
   "source": [
    "forward_value = graphSage.forward(data.x, data.edge_index)"
   ]
  },
  {
   "cell_type": "code",
   "execution_count": 9,
   "id": "c9fd13f8",
   "metadata": {},
   "outputs": [
    {
     "data": {
      "text/plain": [
       "tensor([[0.0553269275],\n",
       "        [0.0791743621],\n",
       "        [0.0660096332],\n",
       "        [0.1207935810],\n",
       "        [0.1234773844],\n",
       "        [0.1069006920],\n",
       "        [0.2506873608],\n",
       "        [0.0556391589],\n",
       "        [0.0349975117],\n",
       "        [0.1216965988]], grad_fn=<SliceBackward>)"
      ]
     },
     "execution_count": 9,
     "metadata": {},
     "output_type": "execute_result"
    }
   ],
   "source": [
    "forward_value[:10]"
   ]
  },
  {
   "cell_type": "code",
   "execution_count": 10,
   "id": "a591bb99",
   "metadata": {},
   "outputs": [],
   "source": [
    "if __name__ == \"__main__\":\n",
    "    torch.save(graphSage, \"../models/graphSageOneLayer\")"
   ]
  }
 ],
 "metadata": {
  "kernelspec": {
   "display_name": "Python 3",
   "language": "python",
   "name": "python3"
  },
  "language_info": {
   "codemirror_mode": {
    "name": "ipython",
    "version": 3
   },
   "file_extension": ".py",
   "mimetype": "text/x-python",
   "name": "python",
   "nbconvert_exporter": "python",
   "pygments_lexer": "ipython3",
   "version": "3.8.12"
  }
 },
 "nbformat": 4,
 "nbformat_minor": 5
}
