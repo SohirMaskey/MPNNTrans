{
 "cells": [
  {
   "cell_type": "code",
   "execution_count": 1,
   "id": "4b0604c7",
   "metadata": {},
   "outputs": [],
   "source": [
    "import numpy as np\n",
    "import networkx as nx\n",
    "import torch\n",
    "from torch_geometric.data import Data\n",
    "import time\n",
    "\n",
    "import random\n",
    "from torch_geometric.utils import from_networkx\n",
    "\n",
    "import matplotlib.pyplot as plt\n",
    "\n",
    "from torch_geometric.nn import SAGEConv"
   ]
  },
  {
   "cell_type": "code",
   "execution_count": 2,
   "id": "5fbf196c",
   "metadata": {},
   "outputs": [],
   "source": [
    "from torch_geometric.nn import MessagePassing\n",
    "from torch_geometric.utils import add_self_loops, degree"
   ]
  },
  {
   "cell_type": "code",
   "execution_count": 3,
   "id": "14d62c18",
   "metadata": {},
   "outputs": [],
   "source": [
    "import torch.nn.functional as F"
   ]
  },
  {
   "cell_type": "markdown",
   "id": "70563ee3",
   "metadata": {},
   "source": [
    "Step 1: Linearly transform node feature matrix\n",
    "Step 2: Apply ReLU\n",
    "Step 3: Linearly transform node feature matrix\n",
    "Step 4: Apply mean aggregation\n",
    "Step 5: Apply MLP\n",
    "\n",
    "Step 4-5 can be easily done by either using the MP base class or graphsage."
   ]
  },
  {
   "cell_type": "code",
   "execution_count": 4,
   "id": "0f9926fd",
   "metadata": {},
   "outputs": [],
   "source": [
    "import sys\n",
    "sys.path.insert(1,'../../src')\n",
    "from DataLoader import RGGDataset"
   ]
  },
  {
   "cell_type": "code",
   "execution_count": 5,
   "id": "8d6a157b",
   "metadata": {},
   "outputs": [],
   "source": [
    "DL = RGGDataset(root = '//home/groups/ai/maskey/input')"
   ]
  },
  {
   "cell_type": "code",
   "execution_count": 9,
   "id": "6a249cf4",
   "metadata": {},
   "outputs": [],
   "source": [
    "dataset = DL.get(101)"
   ]
  },
  {
   "cell_type": "code",
   "execution_count": 10,
   "id": "c3ca0bdb",
   "metadata": {},
   "outputs": [],
   "source": [
    "class GCN(torch.nn.Module):\n",
    "    def __init__(self):\n",
    "        super().__init__()\n",
    "        self.lin1 = torch.nn.Linear(1, 4)\n",
    "        self.lin2 = torch.nn.Linear(4, 1)\n",
    "        self.graphSage = SAGEConv(dataset.num_node_features, 1, root_weight=False, bias=False)\n",
    "\n",
    "        #self.graphSage = SAGEConv(DL.get(101).num_node_features,1 ,root_weight = False, bias = False)\n",
    "        \n",
    "    def forward(self, data):\n",
    "        x, edge_index = data.x, data.edge_index\n",
    "\n",
    "        x = self.lin1(x)\n",
    "        x = F.relu(x)\n",
    "        x = self.lin2(x)\n",
    "        #x = F.dropout(x, training=self.training)\n",
    "        x = self.graphSage(x, edge_index)\n",
    "\n",
    "        return x\n",
    "        #F.log_softmax(x, dim=1)"
   ]
  },
  {
   "cell_type": "code",
   "execution_count": null,
   "id": "320c3b77",
   "metadata": {},
   "outputs": [],
   "source": [
    "model = GCN()"
   ]
  },
  {
   "cell_type": "code",
   "execution_count": null,
   "id": "d639da1d",
   "metadata": {},
   "outputs": [],
   "source": [
    "out = model(dataset)"
   ]
  },
  {
   "cell_type": "code",
   "execution_count": null,
   "id": "e8de9e99",
   "metadata": {},
   "outputs": [],
   "source": [
    "torch.save(model.state_dict(), '../../models/GCNTwoLayersGraphSage')"
   ]
  },
  {
   "cell_type": "code",
   "execution_count": 12,
   "id": "c20a8af5",
   "metadata": {},
   "outputs": [
    {
     "data": {
      "text/plain": [
       "<All keys matched successfully>"
      ]
     },
     "execution_count": 12,
     "metadata": {},
     "output_type": "execute_result"
    }
   ],
   "source": [
    "model = GCN()\n",
    "model.load_state_dict(torch.load( '../../models/GCNTwoLayersGraphSage'))"
   ]
  },
  {
   "cell_type": "code",
   "execution_count": null,
   "id": "8b4e0007",
   "metadata": {},
   "outputs": [],
   "source": [
    "torch.set_printoptions(precision=10) # Set displayed output precision to 10 digits\n",
    "\n",
    "from torchquad import enable_cuda # Necessary to enable GPU support\n",
    "from torchquad import Trapezoid, Simpson, Boole, MonteCarlo, VEGAS # The available integrators\n",
    "import torchquad"
   ]
  },
  {
   "cell_type": "code",
   "execution_count": null,
   "id": "b1d76cc8",
   "metadata": {},
   "outputs": [],
   "source": [
    "eucl_norm = lambda x: torch.sqrt(torch.square(x[:,0]) + torch.square(x[:,1]))\n",
    "\n",
    "\n",
    "def indicator_fct(x, distance, center):\n",
    "    x = x\n",
    "    center = center\n",
    "    a = torch.add(x[:,0],-center[0])\n",
    "    b = x[:,1]- center[1]\n",
    "    c = torch.cat((a,b))\n",
    "    d = torch.reshape(c,(2,len(x))).T\n",
    "    z = (eucl_norm(d) < distance)*1\n",
    "    return z"
   ]
  },
  {
   "cell_type": "code",
   "execution_count": null,
   "id": "632767c5",
   "metadata": {},
   "outputs": [],
   "source": [
    "simp = Simpson() "
   ]
  },
  {
   "cell_type": "code",
   "execution_count": 17,
   "id": "c691462b",
   "metadata": {},
   "outputs": [],
   "source": [
    "class cGCN(torch.nn.Module):\n",
    "    def __init__(self):\n",
    "        super().__init__()\n",
    "        self.lin1 = torch.nn.Linear(1,4)\n",
    "        self.lin2 = torch.nn.Linear(4,1)\n",
    "        self.lin1.load_state_dict(model.lin1.state_dict())\n",
    "        self.lin2.load_state_dict(model.lin2.state_dict())\n",
    "        \n",
    "        self.graphSage = SAGEConv(DL.get(101).num_node_features,1 ,root_weight = False, bias = False)\n",
    "        self.graphSage.load_state_dict(model.graphSage.state_dict())\n",
    "        \n",
    "        #self.weight = self.graphSage.lin_l.weight\n",
    "        \n",
    "    def forward(self, input_fct, radius = 0.2):\n",
    "        self.input_fct = input_fct\n",
    "        \n",
    "        #def output_fct(x):\n",
    "         #   return self.lin1(self.input_fct(x))\n",
    "        \n",
    "        def output_fct2(x):\n",
    "            return F.relu(output_fct(x))\n",
    "        \n",
    "        #def output_fct3(x):\n",
    "        #    return self.lin2(output_fct2(x))\n",
    "        \n",
    "        def output_fct(x):\n",
    "            y = fct(x)\n",
    "            b = torch.empty(( 0 ))\n",
    "            for i, w in enumerate(y):\n",
    "                b = torch.cat((b, self.lin1(torch.tensor([w]))), 0)\n",
    "            d = torch.reshape(b,(len(x),4))\n",
    "            return d\n",
    "\n",
    "        def output_fct3(x):\n",
    "            y = output_fct(x)\n",
    "            b = torch.empty(( 0 ))\n",
    "            for i, w in enumerate(y):\n",
    "                b = torch.cat((b, self.lin2(torch.tensor(w))), 0)\n",
    "            #d = torch.reshape(b,(4, len(x)))\n",
    "            return b\n",
    "\n",
    "        def output_fct4(position):\n",
    "            g = lambda x, distance, center: indicator_fct(x, distance, position)*output_fct3(x)\n",
    "            \n",
    "            h = lambda x: g(x, radius, position)\n",
    "            l = lambda x: indicator_fct(x, radius, position)\n",
    "            \n",
    "            int_of_f = simp.integrate(h,dim=2,N=1000,integration_domain = [[0,1],[0,1]])\n",
    "            measure_Ball = simp.integrate(l,dim=2,N=1000,integration_domain = [[0,1],[0,1]])\n",
    "        \n",
    "            return torch.tensor(self.weight*int_of_f/measure_Ball)\n",
    "        \n",
    "        return output_fct4\n",
    "    #F.log_softmax(x, dim=1)"
   ]
  },
  {
   "cell_type": "code",
   "execution_count": 18,
   "id": "bd22ad7c",
   "metadata": {},
   "outputs": [],
   "source": [
    "cGCNN = cGCN()\n"
   ]
  },
  {
   "cell_type": "code",
   "execution_count": 19,
   "id": "6f4d2127",
   "metadata": {},
   "outputs": [
    {
     "data": {
      "text/plain": [
       "OrderedDict([('lin1.weight',\n",
       "              tensor([[-0.1448],\n",
       "                      [ 0.1797],\n",
       "                      [ 0.1032],\n",
       "                      [ 0.6893]])),\n",
       "             ('lin1.bias', tensor([ 0.3207,  0.5708, -0.8470,  0.4860])),\n",
       "             ('lin2.weight', tensor([[ 0.0631, -0.2477, -0.1040, -0.4646]])),\n",
       "             ('lin2.bias', tensor([-0.2270])),\n",
       "             ('graphSage.lin_l.weight', tensor([[0.8672]]))])"
      ]
     },
     "execution_count": 19,
     "metadata": {},
     "output_type": "execute_result"
    }
   ],
   "source": [
    "cGCNN.state_dict()"
   ]
  },
  {
   "cell_type": "code",
   "execution_count": 16,
   "id": "0bc40a1f",
   "metadata": {},
   "outputs": [
    {
     "data": {
      "text/plain": [
       "OrderedDict([('lin1.weight',\n",
       "              tensor([[-0.1448],\n",
       "                      [ 0.1797],\n",
       "                      [ 0.1032],\n",
       "                      [ 0.6893]])),\n",
       "             ('lin1.bias', tensor([ 0.3207,  0.5708, -0.8470,  0.4860])),\n",
       "             ('lin2.weight', tensor([[ 0.0631, -0.2477, -0.1040, -0.4646]])),\n",
       "             ('lin2.bias', tensor([-0.2270])),\n",
       "             ('graphSage.lin_l.weight', tensor([[0.8672]]))])"
      ]
     },
     "execution_count": 16,
     "metadata": {},
     "output_type": "execute_result"
    }
   ],
   "source": [
    "model.state_dict()"
   ]
  },
  {
   "cell_type": "code",
   "execution_count": 20,
   "id": "e66c47fc",
   "metadata": {},
   "outputs": [],
   "source": [
    "torch.save(cGCNN.state_dict(), '../../models/cGCNTwoLayersGraphSage')"
   ]
  },
  {
   "cell_type": "code",
   "execution_count": null,
   "id": "59522e9b",
   "metadata": {},
   "outputs": [],
   "source": [
    "positions = dataset.pos[:10]"
   ]
  },
  {
   "cell_type": "code",
   "execution_count": null,
   "id": "f0e13fb5",
   "metadata": {},
   "outputs": [],
   "source": [
    "lin1 = torch.nn.Linear(1,4)"
   ]
  },
  {
   "cell_type": "code",
   "execution_count": null,
   "id": "b2657b0d",
   "metadata": {},
   "outputs": [],
   "source": [
    "output = fct(positions)"
   ]
  },
  {
   "cell_type": "code",
   "execution_count": null,
   "id": "3f60141e",
   "metadata": {},
   "outputs": [],
   "source": [
    "output.apply_(lin1)"
   ]
  },
  {
   "cell_type": "code",
   "execution_count": null,
   "id": "1bcbadb5",
   "metadata": {},
   "outputs": [],
   "source": [
    "cGCNN = cGCN()"
   ]
  },
  {
   "cell_type": "code",
   "execution_count": null,
   "id": "2fd2051a",
   "metadata": {},
   "outputs": [],
   "source": [
    "torch.save(cGCNN.state_dict(), '../../models/cGCNTwoLayersGraphSage')"
   ]
  },
  {
   "cell_type": "code",
   "execution_count": null,
   "id": "aa492261",
   "metadata": {},
   "outputs": [],
   "source": [
    "fct = lambda x: x[:,0]*x[:,1]"
   ]
  },
  {
   "cell_type": "markdown",
   "id": "ab731df5",
   "metadata": {},
   "source": [
    "def main():\n",
    "    #DL = RGGDataset(root = \"../input\", size = 1002)\n",
    "    #model = torch.load(\"../models/graphSageOneLayer.pt\")\n",
    "    cGCNN = cGCN()\n",
    "    #the_weight = (model.lin_l).weight\n",
    "    #device = torch.device('cuda' if torch.cuda.is_available() else 'cpu')\n",
    "    #model = model.to(device)\n",
    "    \n",
    "    #cmodel = cGCNN.to(device)\n",
    "    L2Errors = []\n",
    "    for i in range(1, 202, 100):\n",
    "        pos = DL.get(i).pos\n",
    "        #pos = pos.to(device)\n",
    "        cfct = cGCNN.forward(fct)\n",
    "        \n",
    "        b = torch.empty(( 0 ))\n",
    "        for i, w in enumerate(pos):\n",
    "            b = torch.cat((b, cfct(w)), 0)\n",
    "        #d = torch.reshape(b,(4, len(x)))\n",
    "        \n",
    "        data = DL.get(i)\n",
    "        #data = data.to(device)\n",
    "        nodeErrors = b - model.forward(data.x, data.edge_index)\n",
    "        L2Error = torch.sqrt(1/len(nodeErrors)*torch.sum(torch.pow(nodeErrors,2)))\n",
    "        L2Errors.append(L2Error)\n",
    "    return L2Errors"
   ]
  },
  {
   "cell_type": "code",
   "execution_count": null,
   "id": "35147946",
   "metadata": {},
   "outputs": [],
   "source": [
    "L2Errors = []\n",
    "start = time.time()\n",
    "for i in range(1, 202, 100):\n",
    "    data = DL.get(i) \n",
    "    pos = data.pos\n",
    "    #pos = pos.to(device)\n",
    "    cfct = cGCNN.forward(fct)\n",
    "        \n",
    "    b = torch.empty(( 0 ))\n",
    "    for i, w in enumerate(pos):\n",
    "        b = torch.cat((b, cfct(w)), 0)\n",
    "        #d = torch.reshape(b,(4, len(x)))\n",
    "        \n",
    "    #data = DL.get(i)\n",
    "    #data = data.to(device)\n",
    "    nodeErrors = b - model.forward(data)\n",
    "    L2Error = torch.sqrt(1/len(nodeErrors)*torch.sum(torch.pow(nodeErrors,2)))\n",
    "    L2Errors.append(L2Error)\n",
    "end = time.time()\n",
    "print(f\"Took {(end-start)* 1000.0:.3f} ms\")"
   ]
  },
  {
   "cell_type": "code",
   "execution_count": null,
   "id": "493f08bc",
   "metadata": {},
   "outputs": [],
   "source": [
    "L2Errors"
   ]
  },
  {
   "cell_type": "markdown",
   "id": "4d8ac4d9",
   "metadata": {},
   "source": [
    "from torchquad import enable_cuda\n",
    "\n",
    "# Enable GPU support if available\n",
    "enable_cuda() "
   ]
  },
  {
   "cell_type": "markdown",
   "id": "eb1df91c",
   "metadata": {},
   "source": [
    "L2Errors = []\n",
    "\n",
    "#model = torch.load(\"../models/graphSageOneLayer.pt\")\n",
    "#cGCNN = cGCN()\n",
    "#the_weight = (model.graphSage.lin_l).weight\n",
    "start = time.time()\n",
    "\n",
    "device = torch.device('cuda' if torch.cuda.is_available() else 'cpu')\n",
    "\n",
    "model = model.to(device)\n",
    "    \n",
    "cGCNN = cGCNN.to(device)\n",
    "\n",
    "for i in range(1, 202, 100):\n",
    "    data = DL.get(i).to(device) \n",
    "    pos = data.pos\n",
    "    #pos = pos.to(device)\n",
    "    cfct = cGCNN.forward(fct)\n",
    "        \n",
    "    b = torch.empty(( 0 ))\n",
    "    for i, w in enumerate(pos):\n",
    "        b = torch.cat((b, cfct(w)), 0)\n",
    "        #d = torch.reshape(b,(4, len(x)))\n",
    "        \n",
    "    #data = DL.get(i)\n",
    "    #data = data.to(device)\n",
    "    nodeErrors = b - model.forward(data)\n",
    "    L2Error = torch.sqrt(1/len(nodeErrors)*torch.sum(torch.pow(nodeErrors,2)))\n",
    "    L2Errors.append(L2Error)\n",
    "end = time.time()\n",
    "print(f\"Took {(end-start)* 1000.0:.3f} ms\")"
   ]
  },
  {
   "cell_type": "markdown",
   "id": "cdd03f05",
   "metadata": {},
   "source": [
    "L2Errors"
   ]
  },
  {
   "cell_type": "code",
   "execution_count": null,
   "id": "0f8e43f0",
   "metadata": {},
   "outputs": [],
   "source": []
  }
 ],
 "metadata": {
  "kernelspec": {
   "display_name": "Python 3",
   "language": "python",
   "name": "python3"
  },
  "language_info": {
   "codemirror_mode": {
    "name": "ipython",
    "version": 3
   },
   "file_extension": ".py",
   "mimetype": "text/x-python",
   "name": "python",
   "nbconvert_exporter": "python",
   "pygments_lexer": "ipython3",
   "version": "3.8.12"
  }
 },
 "nbformat": 4,
 "nbformat_minor": 5
}
