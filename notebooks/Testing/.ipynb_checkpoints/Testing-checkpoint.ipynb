{
 "cells": [
  {
   "cell_type": "code",
   "execution_count": 1,
   "id": "4b0604c7",
   "metadata": {},
   "outputs": [],
   "source": [
    "import numpy as np\n",
    "import networkx as nx\n",
    "import torch\n",
    "from torch_geometric.data import Data\n",
    "import time\n",
    "\n",
    "import random\n",
    "from torch_geometric.utils import from_networkx\n",
    "\n",
    "import matplotlib.pyplot as plt\n",
    "\n",
    "from torch_geometric.nn import SAGEConv"
   ]
  },
  {
   "cell_type": "code",
   "execution_count": 2,
   "id": "5fbf196c",
   "metadata": {},
   "outputs": [],
   "source": [
    "from torch_geometric.nn import MessagePassing\n",
    "from torch_geometric.utils import add_self_loops, degree"
   ]
  },
  {
   "cell_type": "code",
   "execution_count": 3,
   "id": "14d62c18",
   "metadata": {},
   "outputs": [],
   "source": [
    "import torch.nn.functional as F"
   ]
  },
  {
   "cell_type": "markdown",
   "id": "70563ee3",
   "metadata": {},
   "source": [
    "Step 1: Linearly transform node feature matrix\n",
    "Step 2: Apply ReLU\n",
    "Step 3: Linearly transform node feature matrix\n",
    "Step 4: Apply mean aggregation\n",
    "Step 5: Apply MLP\n",
    "\n",
    "Step 4-5 can be easily done by either using the MP base class or graphsage."
   ]
  },
  {
   "cell_type": "code",
   "execution_count": 4,
   "id": "0f9926fd",
   "metadata": {},
   "outputs": [],
   "source": [
    "import sys\n",
    "sys.path.insert(1,'../../src')\n",
    "from DataLoader import RGGDataset"
   ]
  },
  {
   "cell_type": "code",
   "execution_count": 5,
   "id": "8d6a157b",
   "metadata": {},
   "outputs": [],
   "source": [
    "DL = RGGDataset(root = '../../input')"
   ]
  },
  {
   "cell_type": "code",
   "execution_count": 6,
   "id": "6a249cf4",
   "metadata": {},
   "outputs": [],
   "source": [
    "dataset = DL.get(101)"
   ]
  },
  {
   "cell_type": "code",
   "execution_count": 25,
   "id": "c3ca0bdb",
   "metadata": {},
   "outputs": [],
   "source": [
    "class GCN(torch.nn.Module):\n",
    "    def __init__(self):\n",
    "        super().__init__()\n",
    "        self.lin1 = torch.nn.Linear(1, 16)\n",
    "        self.lin2 = torch.nn.Linear(16, 1)\n",
    "        self.graphSage = SAGEConv(dataset.num_node_features, 1, root_weight=False, bias=False)\n",
    "\n",
    "        #self.graphSage = SAGEConv(DL.get(101).num_node_features,1 ,root_weight = False, bias = False)\n",
    "        \n",
    "    def forward(self, data):\n",
    "        x, edge_index = data.x, data.edge_index\n",
    "\n",
    "        x = self.lin1(x)\n",
    "        x = F.relu(x)\n",
    "        x = self.lin2(x)\n",
    "        #x = F.dropout(x, training=self.training)\n",
    "        x = self.graphSage(x, edge_index)\n",
    "\n",
    "        return x\n",
    "        #F.log_softmax(x, dim=1)"
   ]
  },
  {
   "cell_type": "code",
   "execution_count": 26,
   "id": "320c3b77",
   "metadata": {},
   "outputs": [],
   "source": [
    "model = GCN()"
   ]
  },
  {
   "cell_type": "code",
   "execution_count": 27,
   "id": "d639da1d",
   "metadata": {},
   "outputs": [],
   "source": [
    "out = model(dataset)"
   ]
  },
  {
   "cell_type": "code",
   "execution_count": 34,
   "id": "5d8c98b2",
   "metadata": {},
   "outputs": [
    {
     "data": {
      "text/plain": [
       "Parameter containing:\n",
       "tensor([[ 0.7152],\n",
       "        [-0.2212],\n",
       "        [ 0.4069],\n",
       "        [-0.3100],\n",
       "        [-0.0208],\n",
       "        [-0.6301],\n",
       "        [-0.2270],\n",
       "        [-0.6858],\n",
       "        [-0.7537],\n",
       "        [ 0.4336],\n",
       "        [-0.0094],\n",
       "        [ 0.7925],\n",
       "        [ 0.4834],\n",
       "        [ 0.5898],\n",
       "        [ 0.4581],\n",
       "        [ 0.8930]], requires_grad=True)"
      ]
     },
     "execution_count": 34,
     "metadata": {},
     "output_type": "execute_result"
    }
   ],
   "source": [
    "model.lin1.weight"
   ]
  },
  {
   "cell_type": "code",
   "execution_count": 41,
   "id": "77f6bcd6",
   "metadata": {},
   "outputs": [
    {
     "data": {
      "text/plain": [
       "tensor([-0.2212], grad_fn=<SelectBackward>)"
      ]
     },
     "execution_count": 41,
     "metadata": {},
     "output_type": "execute_result"
    }
   ],
   "source": [
    "model.lin1.weight[1]"
   ]
  },
  {
   "cell_type": "code",
   "execution_count": 42,
   "id": "365b0545",
   "metadata": {},
   "outputs": [
    {
     "name": "stderr",
     "output_type": "stream",
     "text": [
      "10:41:32|TQ-INFO| Initializing torchquad.\n"
     ]
    }
   ],
   "source": [
    "torch.set_printoptions(precision=10) # Set displayed output precision to 10 digits\n",
    "\n",
    "from torchquad import enable_cuda # Necessary to enable GPU support\n",
    "from torchquad import Trapezoid, Simpson, Boole, MonteCarlo, VEGAS # The available integrators\n",
    "import torchquad"
   ]
  },
  {
   "cell_type": "code",
   "execution_count": 124,
   "id": "baf1ad1b",
   "metadata": {},
   "outputs": [],
   "source": [
    "f = lambda x,y: torch.tensor(x*y)"
   ]
  },
  {
   "cell_type": "code",
   "execution_count": 44,
   "id": "c3b3b004",
   "metadata": {},
   "outputs": [],
   "source": [
    "fcts = lambda x,y: torch.tensor([f(x,y)*weight for weight in model.lin1.weight])"
   ]
  },
  {
   "cell_type": "code",
   "execution_count": 125,
   "id": "09fee5f0",
   "metadata": {},
   "outputs": [],
   "source": [
    "fcts3 = lambda x,y: (f(x,y)*(model.lin1.weight).detach()).sum(-1)"
   ]
  },
  {
   "cell_type": "code",
   "execution_count": 126,
   "id": "00d4fae2",
   "metadata": {},
   "outputs": [
    {
     "data": {
      "text/plain": [
       "tensor([ 0.7152270079, -0.2211924791,  0.4068642855, -0.3099770546,\n",
       "        -0.0208331347, -0.6301038265, -0.2270325422, -0.6857833862,\n",
       "        -0.7537283897,  0.4336109161, -0.0094306469,  0.7924692631,\n",
       "         0.4833942652,  0.5897969007,  0.4580508471,  0.8929728270])"
      ]
     },
     "execution_count": 126,
     "metadata": {},
     "output_type": "execute_result"
    }
   ],
   "source": [
    "fcts3(1,1)"
   ]
  },
  {
   "cell_type": "code",
   "execution_count": 127,
   "id": "bbf79f0c",
   "metadata": {},
   "outputs": [],
   "source": [
    "fcts4 = lambda x,y: np.dot(f(x,y),(model.lin1.weight).detach().numpy())"
   ]
  },
  {
   "cell_type": "code",
   "execution_count": 128,
   "id": "bc582f1a",
   "metadata": {},
   "outputs": [
    {
     "data": {
      "text/plain": [
       "array([[ 0.71522701],\n",
       "       [-0.22119248],\n",
       "       [ 0.40686429],\n",
       "       [-0.30997705],\n",
       "       [-0.02083313],\n",
       "       [-0.63010383],\n",
       "       [-0.22703254],\n",
       "       [-0.68578339],\n",
       "       [-0.75372839],\n",
       "       [ 0.43361092],\n",
       "       [-0.00943065],\n",
       "       [ 0.79246926],\n",
       "       [ 0.48339427],\n",
       "       [ 0.5897969 ],\n",
       "       [ 0.45805085],\n",
       "       [ 0.89297283]])"
      ]
     },
     "execution_count": 128,
     "metadata": {},
     "output_type": "execute_result"
    }
   ],
   "source": [
    "fcts4(1,1)"
   ]
  },
  {
   "cell_type": "code",
   "execution_count": 108,
   "id": "725cafd2",
   "metadata": {},
   "outputs": [
    {
     "name": "stdout",
     "output_type": "stream",
     "text": [
      "tensor(0.7152270079, grad_fn=<UnbindBackward>)\n",
      "tensor(-0.2211924791, grad_fn=<UnbindBackward>)\n",
      "tensor(0.4068642855, grad_fn=<UnbindBackward>)\n",
      "tensor(-0.3099770546, grad_fn=<UnbindBackward>)\n",
      "tensor(-0.0208331347, grad_fn=<UnbindBackward>)\n",
      "tensor(-0.6301038265, grad_fn=<UnbindBackward>)\n",
      "tensor(-0.2270325422, grad_fn=<UnbindBackward>)\n",
      "tensor(-0.6857833862, grad_fn=<UnbindBackward>)\n",
      "tensor(-0.7537283897, grad_fn=<UnbindBackward>)\n",
      "tensor(0.4336109161, grad_fn=<UnbindBackward>)\n",
      "tensor(-0.0094306469, grad_fn=<UnbindBackward>)\n",
      "tensor(0.7924692631, grad_fn=<UnbindBackward>)\n",
      "tensor(0.4833942652, grad_fn=<UnbindBackward>)\n",
      "tensor(0.5897969007, grad_fn=<UnbindBackward>)\n",
      "tensor(0.4580508471, grad_fn=<UnbindBackward>)\n",
      "tensor(0.8929728270, grad_fn=<UnbindBackward>)\n"
     ]
    }
   ],
   "source": [
    "for row in model.lin1.weight:\n",
    "    for value in row:\n",
    "        print(value)"
   ]
  },
  {
   "cell_type": "code",
   "execution_count": 46,
   "id": "d443d530",
   "metadata": {},
   "outputs": [
    {
     "data": {
      "text/plain": [
       "tensor([ 0.7152270079, -0.2211924791,  0.4068642855, -0.3099770546,\n",
       "        -0.0208331347, -0.6301038265, -0.2270325422, -0.6857833862,\n",
       "        -0.7537283897,  0.4336109161, -0.0094306469,  0.7924692631,\n",
       "         0.4833942652,  0.5897969007,  0.4580508471,  0.8929728270])"
      ]
     },
     "execution_count": 46,
     "metadata": {},
     "output_type": "execute_result"
    }
   ],
   "source": [
    "fcts(1,1)"
   ]
  },
  {
   "cell_type": "code",
   "execution_count": 61,
   "id": "8f6c44c5",
   "metadata": {},
   "outputs": [],
   "source": [
    "def g(x,y):\n",
    "    z = 0\n",
    "    for  i in range(len(model.lin2.weight[0])):\n",
    "        z = z + fcts(x,y)[i]*model.lin2.weight[0][i]\n",
    "    return z"
   ]
  },
  {
   "cell_type": "code",
   "execution_count": 62,
   "id": "1937824b",
   "metadata": {},
   "outputs": [
    {
     "data": {
      "text/plain": [
       "tensor(0.1506606638, grad_fn=<AddBackward0>)"
      ]
     },
     "execution_count": 62,
     "metadata": {},
     "output_type": "execute_result"
    }
   ],
   "source": [
    "g(1,1)"
   ]
  },
  {
   "cell_type": "code",
   "execution_count": 58,
   "id": "481cd86a",
   "metadata": {},
   "outputs": [
    {
     "data": {
      "text/plain": [
       "1"
      ]
     },
     "execution_count": 58,
     "metadata": {},
     "output_type": "execute_result"
    }
   ],
   "source": [
    "len(model.lin2.weight)"
   ]
  },
  {
   "cell_type": "code",
   "execution_count": 60,
   "id": "8d175d21",
   "metadata": {},
   "outputs": [
    {
     "data": {
      "text/plain": [
       "16"
      ]
     },
     "execution_count": 60,
     "metadata": {},
     "output_type": "execute_result"
    }
   ],
   "source": []
  },
  {
   "cell_type": "code",
   "execution_count": 64,
   "id": "b5785004",
   "metadata": {},
   "outputs": [
    {
     "data": {
      "text/plain": [
       "['T_destination',\n",
       " '__annotations__',\n",
       " '__call__',\n",
       " '__class__',\n",
       " '__delattr__',\n",
       " '__dict__',\n",
       " '__dir__',\n",
       " '__doc__',\n",
       " '__eq__',\n",
       " '__format__',\n",
       " '__ge__',\n",
       " '__getattr__',\n",
       " '__getattribute__',\n",
       " '__gt__',\n",
       " '__hash__',\n",
       " '__init__',\n",
       " '__init_subclass__',\n",
       " '__le__',\n",
       " '__lt__',\n",
       " '__module__',\n",
       " '__ne__',\n",
       " '__new__',\n",
       " '__reduce__',\n",
       " '__reduce_ex__',\n",
       " '__repr__',\n",
       " '__setattr__',\n",
       " '__setstate__',\n",
       " '__sizeof__',\n",
       " '__str__',\n",
       " '__subclasshook__',\n",
       " '__weakref__',\n",
       " '_apply',\n",
       " '_backward_hooks',\n",
       " '_buffers',\n",
       " '_call_impl',\n",
       " '_forward_hooks',\n",
       " '_forward_pre_hooks',\n",
       " '_get_backward_hooks',\n",
       " '_get_name',\n",
       " '_is_full_backward_hook',\n",
       " '_load_from_state_dict',\n",
       " '_load_state_dict_pre_hooks',\n",
       " '_maybe_warn_non_full_backward_hook',\n",
       " '_modules',\n",
       " '_named_members',\n",
       " '_non_persistent_buffers_set',\n",
       " '_parameters',\n",
       " '_register_load_state_dict_pre_hook',\n",
       " '_register_state_dict_hook',\n",
       " '_replicate_for_data_parallel',\n",
       " '_save_to_state_dict',\n",
       " '_slow_forward',\n",
       " '_state_dict_hooks',\n",
       " '_version',\n",
       " 'add_module',\n",
       " 'apply',\n",
       " 'bfloat16',\n",
       " 'buffers',\n",
       " 'children',\n",
       " 'cpu',\n",
       " 'cuda',\n",
       " 'double',\n",
       " 'dump_patches',\n",
       " 'eval',\n",
       " 'extra_repr',\n",
       " 'float',\n",
       " 'forward',\n",
       " 'graphSage',\n",
       " 'half',\n",
       " 'lin1',\n",
       " 'lin2',\n",
       " 'load_state_dict',\n",
       " 'modules',\n",
       " 'named_buffers',\n",
       " 'named_children',\n",
       " 'named_modules',\n",
       " 'named_parameters',\n",
       " 'parameters',\n",
       " 'register_backward_hook',\n",
       " 'register_buffer',\n",
       " 'register_forward_hook',\n",
       " 'register_forward_pre_hook',\n",
       " 'register_full_backward_hook',\n",
       " 'register_parameter',\n",
       " 'requires_grad_',\n",
       " 'share_memory',\n",
       " 'state_dict',\n",
       " 'to',\n",
       " 'train',\n",
       " 'training',\n",
       " 'type',\n",
       " 'xpu',\n",
       " 'zero_grad']"
      ]
     },
     "execution_count": 64,
     "metadata": {},
     "output_type": "execute_result"
    }
   ],
   "source": [
    "dir(model)"
   ]
  },
  {
   "cell_type": "code",
   "execution_count": 66,
   "id": "b5b56bb2",
   "metadata": {},
   "outputs": [
    {
     "data": {
      "text/plain": [
       "<bound method Module.parameters of GCN(\n",
       "  (lin1): Linear(in_features=1, out_features=16, bias=True)\n",
       "  (lin2): Linear(in_features=16, out_features=1, bias=True)\n",
       "  (graphSage): SAGEConv(1, 1)\n",
       ")>"
      ]
     },
     "execution_count": 66,
     "metadata": {},
     "output_type": "execute_result"
    }
   ],
   "source": [
    "model.parameters"
   ]
  },
  {
   "cell_type": "code",
   "execution_count": 67,
   "id": "e0cc7682",
   "metadata": {},
   "outputs": [
    {
     "ename": "AttributeError",
     "evalue": "'GCN' object has no attribute 'parameter'",
     "output_type": "error",
     "traceback": [
      "\u001b[0;31m---------------------------------------------------------------------------\u001b[0m",
      "\u001b[0;31mAttributeError\u001b[0m                            Traceback (most recent call last)",
      "\u001b[0;32m<ipython-input-67-0035885a9fa0>\u001b[0m in \u001b[0;36m<module>\u001b[0;34m\u001b[0m\n\u001b[0;32m----> 1\u001b[0;31m \u001b[0mmodel\u001b[0m\u001b[0;34m.\u001b[0m\u001b[0mparameter\u001b[0m\u001b[0;34m[\u001b[0m\u001b[0;36m0\u001b[0m\u001b[0;34m]\u001b[0m\u001b[0;34m\u001b[0m\u001b[0;34m\u001b[0m\u001b[0m\n\u001b[0m",
      "\u001b[0;32m~/anaconda3/envs/pyg_cuda102/lib/python3.8/site-packages/torch/nn/modules/module.py\u001b[0m in \u001b[0;36m__getattr__\u001b[0;34m(self, name)\u001b[0m\n\u001b[1;32m    945\u001b[0m             \u001b[0;32mif\u001b[0m \u001b[0mname\u001b[0m \u001b[0;32min\u001b[0m \u001b[0mmodules\u001b[0m\u001b[0;34m:\u001b[0m\u001b[0;34m\u001b[0m\u001b[0;34m\u001b[0m\u001b[0m\n\u001b[1;32m    946\u001b[0m                 \u001b[0;32mreturn\u001b[0m \u001b[0mmodules\u001b[0m\u001b[0;34m[\u001b[0m\u001b[0mname\u001b[0m\u001b[0;34m]\u001b[0m\u001b[0;34m\u001b[0m\u001b[0;34m\u001b[0m\u001b[0m\n\u001b[0;32m--> 947\u001b[0;31m         raise AttributeError(\"'{}' object has no attribute '{}'\".format(\n\u001b[0m\u001b[1;32m    948\u001b[0m             type(self).__name__, name))\n\u001b[1;32m    949\u001b[0m \u001b[0;34m\u001b[0m\u001b[0m\n",
      "\u001b[0;31mAttributeError\u001b[0m: 'GCN' object has no attribute 'parameter'"
     ]
    }
   ],
   "source": [
    "model.parameter[0]"
   ]
  },
  {
   "cell_type": "code",
   "execution_count": 69,
   "id": "e12de53a",
   "metadata": {},
   "outputs": [
    {
     "name": "stdout",
     "output_type": "stream",
     "text": [
      "Model's state_dict:\n",
      "lin1.weight \t torch.Size([16, 1])\n",
      "lin1.bias \t torch.Size([16])\n",
      "lin2.weight \t torch.Size([1, 16])\n",
      "lin2.bias \t torch.Size([1])\n",
      "graphSage.lin_l.weight \t torch.Size([1, 1])\n"
     ]
    }
   ],
   "source": [
    "# Print model's state_dict\n",
    "print(\"Model's state_dict:\")\n",
    "for param_tensor in model.state_dict():\n",
    "    print(param_tensor, \"\\t\", model.state_dict()[param_tensor].size())"
   ]
  },
  {
   "cell_type": "code",
   "execution_count": 79,
   "id": "b15d6ad6",
   "metadata": {},
   "outputs": [
    {
     "data": {
      "text/plain": [
       "Parameter containing:\n",
       "tensor([0.1552785337], requires_grad=True)"
      ]
     },
     "execution_count": 79,
     "metadata": {},
     "output_type": "execute_result"
    }
   ],
   "source": [
    "model.lin2.bias"
   ]
  },
  {
   "cell_type": "code",
   "execution_count": 81,
   "id": "2a4fc5e5",
   "metadata": {},
   "outputs": [
    {
     "data": {
      "text/plain": [
       "Parameter containing:\n",
       "tensor([[-0.3294014931]], requires_grad=True)"
      ]
     },
     "execution_count": 81,
     "metadata": {},
     "output_type": "execute_result"
    }
   ],
   "source": [
    "model.graphSage.lin_l.weight"
   ]
  },
  {
   "cell_type": "code",
   "execution_count": 82,
   "id": "9458caea",
   "metadata": {},
   "outputs": [
    {
     "data": {
      "text/plain": [
       "Parameter containing:\n",
       "tensor([[-0.0971041322,  0.0331240892,  0.2429564297,  0.0831481516,\n",
       "          0.1086897254,  0.0674734414, -0.1489852071, -0.1776780486,\n",
       "         -0.1164208651,  0.0157084763,  0.0960512459, -0.1478504837,\n",
       "          0.1130991280,  0.0863980055,  0.1429355443, -0.1165988743]],\n",
       "       requires_grad=True)"
      ]
     },
     "execution_count": 82,
     "metadata": {},
     "output_type": "execute_result"
    }
   ],
   "source": [
    "model.lin2.weight"
   ]
  },
  {
   "cell_type": "code",
   "execution_count": 83,
   "id": "05971cc6",
   "metadata": {},
   "outputs": [
    {
     "data": {
      "text/plain": [
       "Parameter containing:\n",
       "tensor([[ 0.7152270079],\n",
       "        [-0.2211924791],\n",
       "        [ 0.4068642855],\n",
       "        [-0.3099770546],\n",
       "        [-0.0208331347],\n",
       "        [-0.6301038265],\n",
       "        [-0.2270325422],\n",
       "        [-0.6857833862],\n",
       "        [-0.7537283897],\n",
       "        [ 0.4336109161],\n",
       "        [-0.0094306469],\n",
       "        [ 0.7924692631],\n",
       "        [ 0.4833942652],\n",
       "        [ 0.5897969007],\n",
       "        [ 0.4580508471],\n",
       "        [ 0.8929728270]], requires_grad=True)"
      ]
     },
     "execution_count": 83,
     "metadata": {},
     "output_type": "execute_result"
    }
   ],
   "source": [
    "model.lin1.weight"
   ]
  },
  {
   "cell_type": "code",
   "execution_count": 88,
   "id": "45b493b4",
   "metadata": {},
   "outputs": [
    {
     "name": "stdout",
     "output_type": "stream",
     "text": [
      "lin1.weight tensor([[ 0.7152270079],\n",
      "        [-0.2211924791],\n",
      "        [ 0.4068642855],\n",
      "        [-0.3099770546],\n",
      "        [-0.0208331347],\n",
      "        [-0.6301038265],\n",
      "        [-0.2270325422],\n",
      "        [-0.6857833862],\n",
      "        [-0.7537283897],\n",
      "        [ 0.4336109161],\n",
      "        [-0.0094306469],\n",
      "        [ 0.7924692631],\n",
      "        [ 0.4833942652],\n",
      "        [ 0.5897969007],\n",
      "        [ 0.4580508471],\n",
      "        [ 0.8929728270]])\n",
      "lin1.bias tensor([-0.1760407686,  0.5672950745,  0.6658843756, -0.5661550760,\n",
      "        -0.4119721651, -0.9658677578,  0.7227567434, -0.3269668818,\n",
      "        -0.9208085537, -0.7287718058, -0.7078074217,  0.4639362097,\n",
      "        -0.0141741037,  0.7421504259,  0.8406488895,  0.1076577902])\n",
      "lin2.weight tensor([[-0.0971041322,  0.0331240892,  0.2429564297,  0.0831481516,\n",
      "          0.1086897254,  0.0674734414, -0.1489852071, -0.1776780486,\n",
      "         -0.1164208651,  0.0157084763,  0.0960512459, -0.1478504837,\n",
      "          0.1130991280,  0.0863980055,  0.1429355443, -0.1165988743]])\n",
      "lin2.bias tensor([0.1552785337])\n",
      "graphSage.lin_l.weight tensor([[-0.3294014931]])\n"
     ]
    }
   ],
   "source": [
    "for param_tensor in model.state_dict():\n",
    "    print(param_tensor, model.state_dict()[param_tensor])"
   ]
  },
  {
   "cell_type": "code",
   "execution_count": 91,
   "id": "8c09860d",
   "metadata": {},
   "outputs": [
    {
     "data": {
      "text/plain": [
       "SAGEConv(1, 1)"
      ]
     },
     "execution_count": 91,
     "metadata": {},
     "output_type": "execute_result"
    }
   ],
   "source": [
    "model.graphSage"
   ]
  },
  {
   "cell_type": "code",
   "execution_count": 93,
   "id": "0ae72a2c",
   "metadata": {},
   "outputs": [
    {
     "data": {
      "text/plain": [
       "OrderedDict([('lin1.weight',\n",
       "              tensor([[ 0.7152270079],\n",
       "                      [-0.2211924791],\n",
       "                      [ 0.4068642855],\n",
       "                      [-0.3099770546],\n",
       "                      [-0.0208331347],\n",
       "                      [-0.6301038265],\n",
       "                      [-0.2270325422],\n",
       "                      [-0.6857833862],\n",
       "                      [-0.7537283897],\n",
       "                      [ 0.4336109161],\n",
       "                      [-0.0094306469],\n",
       "                      [ 0.7924692631],\n",
       "                      [ 0.4833942652],\n",
       "                      [ 0.5897969007],\n",
       "                      [ 0.4580508471],\n",
       "                      [ 0.8929728270]])),\n",
       "             ('lin1.bias',\n",
       "              tensor([-0.1760407686,  0.5672950745,  0.6658843756, -0.5661550760,\n",
       "                      -0.4119721651, -0.9658677578,  0.7227567434, -0.3269668818,\n",
       "                      -0.9208085537, -0.7287718058, -0.7078074217,  0.4639362097,\n",
       "                      -0.0141741037,  0.7421504259,  0.8406488895,  0.1076577902])),\n",
       "             ('lin2.weight',\n",
       "              tensor([[-0.0971041322,  0.0331240892,  0.2429564297,  0.0831481516,\n",
       "                        0.1086897254,  0.0674734414, -0.1489852071, -0.1776780486,\n",
       "                       -0.1164208651,  0.0157084763,  0.0960512459, -0.1478504837,\n",
       "                        0.1130991280,  0.0863980055,  0.1429355443, -0.1165988743]])),\n",
       "             ('lin2.bias', tensor([0.1552785337])),\n",
       "             ('graphSage.lin_l.weight', tensor([[-0.3294014931]]))])"
      ]
     },
     "execution_count": 93,
     "metadata": {},
     "output_type": "execute_result"
    }
   ],
   "source": [
    "model.state_dict()"
   ]
  },
  {
   "cell_type": "code",
   "execution_count": 98,
   "id": "6c6694fc",
   "metadata": {},
   "outputs": [
    {
     "name": "stdout",
     "output_type": "stream",
     "text": [
      "lin1.weight tensor([[ 0.7152270079],\n",
      "        [-0.2211924791],\n",
      "        [ 0.4068642855],\n",
      "        [-0.3099770546],\n",
      "        [-0.0208331347],\n",
      "        [-0.6301038265],\n",
      "        [-0.2270325422],\n",
      "        [-0.6857833862],\n",
      "        [-0.7537283897],\n",
      "        [ 0.4336109161],\n",
      "        [-0.0094306469],\n",
      "        [ 0.7924692631],\n",
      "        [ 0.4833942652],\n",
      "        [ 0.5897969007],\n",
      "        [ 0.4580508471],\n",
      "        [ 0.8929728270]])\n",
      "lin1.bias tensor([-0.1760407686,  0.5672950745,  0.6658843756, -0.5661550760,\n",
      "        -0.4119721651, -0.9658677578,  0.7227567434, -0.3269668818,\n",
      "        -0.9208085537, -0.7287718058, -0.7078074217,  0.4639362097,\n",
      "        -0.0141741037,  0.7421504259,  0.8406488895,  0.1076577902])\n",
      "lin2.weight tensor([[-0.0971041322,  0.0331240892,  0.2429564297,  0.0831481516,\n",
      "          0.1086897254,  0.0674734414, -0.1489852071, -0.1776780486,\n",
      "         -0.1164208651,  0.0157084763,  0.0960512459, -0.1478504837,\n",
      "          0.1130991280,  0.0863980055,  0.1429355443, -0.1165988743]])\n",
      "lin2.bias tensor([0.1552785337])\n",
      "graphSage.lin_l.weight tensor([[-0.3294014931]])\n"
     ]
    }
   ],
   "source": [
    "for param_tensor in model.state_dict():\n",
    "    print(param_tensor, model.state_dict()[param_tensor])"
   ]
  },
  {
   "cell_type": "code",
   "execution_count": null,
   "id": "3350b998",
   "metadata": {},
   "outputs": [],
   "source": [
    "class cMPNN():\n",
    "    \"\"\"\n",
    "    1. Read parameters of the discrete MPNN\n",
    "    2. Set parameters accordingly\n",
    "    3. forward(fct): apply the operations to the function.\n",
    "    \n",
    "    \"\"\"\n",
    "    def __init__(modelState, self):\n",
    "        super().__init__()\n",
    "        self.lin1 = torch.nn.Linear(1, 16)\n",
    "        self.lin2 = torch.nn.Linear(16, 1)\n",
    "        self.graphSage = SAGEConv(dataset.num_node_features, 1, root_weight=False, bias=False)\n",
    "\n",
    "        #self.graphSage = SAGEConv(DL.get(101).num_node_features,1 ,root_weight = False, bias = False)\n",
    "        \n",
    "    def forward(self, data):\n",
    "        x, edge_index = data.x, data.edge_index\n",
    "\n",
    "        x = self.lin1(x)\n",
    "        x = F.relu(x)\n",
    "        x = self.lin2(x)\n",
    "        #x = F.dropout(x, training=self.training)\n",
    "        x = self.graphSage(x, edge_index)\n",
    "\n",
    "        return x\n",
    "        #F.log_softmax(x, dim=1)\n",
    "    "
   ]
  }
 ],
 "metadata": {
  "kernelspec": {
   "display_name": "Python 3",
   "language": "python",
   "name": "python3"
  },
  "language_info": {
   "codemirror_mode": {
    "name": "ipython",
    "version": 3
   },
   "file_extension": ".py",
   "mimetype": "text/x-python",
   "name": "python",
   "nbconvert_exporter": "python",
   "pygments_lexer": "ipython3",
   "version": "3.8.12"
  }
 },
 "nbformat": 4,
 "nbformat_minor": 5
}
