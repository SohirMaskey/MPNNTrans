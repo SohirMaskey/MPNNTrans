{
 "cells": [
  {
   "cell_type": "code",
   "execution_count": 1,
   "id": "1f4f7bbb",
   "metadata": {},
   "outputs": [],
   "source": [
    "import numpy as np\n",
    "import networkx as nx\n",
    "import torch\n",
    "from torch_geometric.data import Data\n",
    "import time\n",
    "\n",
    "import random\n",
    "from torch_geometric.utils import from_networkx\n",
    "\n",
    "import matplotlib.pyplot as plt\n",
    "\n",
    "from torch_geometric.nn import SAGEConv"
   ]
  },
  {
   "cell_type": "code",
   "execution_count": 2,
   "id": "20edff81",
   "metadata": {},
   "outputs": [],
   "source": [
    "from torch_geometric.nn import MessagePassing\n",
    "from torch_geometric.utils import add_self_loops, degree"
   ]
  },
  {
   "cell_type": "code",
   "execution_count": 3,
   "id": "a541c493",
   "metadata": {},
   "outputs": [],
   "source": [
    "import torch.nn.functional as F"
   ]
  },
  {
   "cell_type": "code",
   "execution_count": 4,
   "id": "1d6ee7b3",
   "metadata": {},
   "outputs": [],
   "source": [
    "import sys\n",
    "sys.path.insert(1,'../src')\n",
    "from DataLoader import RGGDataset"
   ]
  },
  {
   "cell_type": "markdown",
   "id": "8023a6a1",
   "metadata": {},
   "source": [
    "DL = RGGDataset(root = '../input')"
   ]
  },
  {
   "cell_type": "markdown",
   "id": "8bd347b0",
   "metadata": {},
   "source": [
    "dataset = DL.get(1)"
   ]
  },
  {
   "cell_type": "markdown",
   "id": "ae3ab7ed",
   "metadata": {},
   "source": [
    "class GCN(torch.nn.Module):\n",
    "    def __init__(self):\n",
    "        super().__init__()\n",
    "        self.lin1 = torch.nn.Linear(1, 16)\n",
    "        self.lin2 = torch.nn.Linear(16, 1)\n",
    "        self.graphSage = SAGEConv(dataset.num_node_features, 1, root_weight=False, bias=False)\n",
    "\n",
    "        #self.graphSage = SAGEConv(DL.get(101).num_node_features,1 ,root_weight = False, bias = False)\n",
    "        \n",
    "    def forward(self, data):\n",
    "        x, edge_index = data.x, data.edge_index\n",
    "\n",
    "        x = self.lin1(x)\n",
    "        x = F.relu(x)\n",
    "        x = self.lin2(x)\n",
    "        #x = F.dropout(x, training=self.training)\n",
    "        x = self.graphSage(x, edge_index)\n",
    "\n",
    "        return x\n",
    "        #F.log_softmax(x, dim=1)"
   ]
  },
  {
   "cell_type": "markdown",
   "id": "612f80c3",
   "metadata": {},
   "source": [
    "model = GCN()"
   ]
  },
  {
   "cell_type": "code",
   "execution_count": 5,
   "id": "2af92120",
   "metadata": {},
   "outputs": [
    {
     "name": "stderr",
     "output_type": "stream",
     "text": [
      "15:13:28|TQ-INFO| Initializing torchquad.\n"
     ]
    }
   ],
   "source": [
    "torch.set_printoptions(precision=10) # Set displayed output precision to 10 digits\n",
    "\n",
    "from torchquad import enable_cuda # Necessary to enable GPU support\n",
    "from torchquad import Trapezoid, Simpson, Boole, MonteCarlo, VEGAS # The available integrators\n",
    "import torchquad"
   ]
  },
  {
   "cell_type": "markdown",
   "id": "25a5c0d1",
   "metadata": {},
   "source": [
    "f = lambda x,y: torch.tensor(x*y)"
   ]
  },
  {
   "cell_type": "code",
   "execution_count": 6,
   "id": "d3a4b2f4",
   "metadata": {},
   "outputs": [],
   "source": [
    "class Layer:\n",
    "    def __init__(self):\n",
    "        self.input = None\n",
    "        self.output = None\n",
    "\n",
    "    # computes the output Y of a layer for a given input X\n",
    "    def forward_propagation(self, input):\n",
    "        raise NotImplementedError\n",
    "\n",
    "    # computes dE/dX for a given dE/dY (and update parameters if any)\n",
    "    def backward_propagation(self, output_error, learning_rate):\n",
    "        raise NotImplementedError"
   ]
  },
  {
   "cell_type": "code",
   "execution_count": 16,
   "id": "a07514cb",
   "metadata": {},
   "outputs": [],
   "source": [
    "class FCLayer(Layer):\n",
    "    # input_size = number of input neurons\n",
    "    # output_size = number of output neurons\n",
    "    def __init__(self, input_size, output_size):\n",
    "        self.weights = torch.rand(output_size, input_size) - 0.5\n",
    "        self.bias = torch.rand(1, output_size) - 0.5\n",
    "\n",
    "    # returns output for a given input\n",
    "    def forward(self, input_fct):\n",
    "        self.input_fct = input_fct\n",
    "        fct = lambda x,y: ((self.input_fct)(x,y)*(self.weights)).sum(-1) + self.bias\n",
    "        self.output = fct\n",
    "        return self.output\n",
    "    \n",
    "    def set_weights(self, tensor):\n",
    "        self.weights = tensor\n",
    "    \n",
    "    def set_bias(self, tensor):\n",
    "        self.bias = tensor\n",
    "\n",
    "    # computes dE/dW, dE/dB for a given output_error=dE/dY. Returns input_error=dE/dX.\n",
    "    \"\"\"\n",
    "    def backward_propagation(self, output_error, learning_rate):\n",
    "        input_error = np.dot(output_error, self.weights.T)\n",
    "        weights_error = np.dot(self.input.T, output_error)\n",
    "        # dBias = output_error\n",
    "\n",
    "        # update parameters\n",
    "        self.weights -= learning_rate * weights_error\n",
    "        self.bias -= learning_rate * output_error\n",
    "        return input_error\n",
    "    \"\"\""
   ]
  },
  {
   "cell_type": "markdown",
   "id": "324e7916",
   "metadata": {},
   "source": [
    "cMPNN = FCLayer(1, 16)"
   ]
  },
  {
   "cell_type": "markdown",
   "id": "f11cc165",
   "metadata": {},
   "source": [
    "cMPNN.forward(f)"
   ]
  },
  {
   "cell_type": "markdown",
   "id": "1a3cb1a5",
   "metadata": {},
   "source": [
    "hi = cMPNN.forward(f)"
   ]
  },
  {
   "cell_type": "markdown",
   "id": "d367a371",
   "metadata": {},
   "source": [
    "hi(1,1)"
   ]
  },
  {
   "cell_type": "markdown",
   "id": "3005ad0e",
   "metadata": {},
   "source": [
    "cMPNN.weights"
   ]
  },
  {
   "cell_type": "code",
   "execution_count": 8,
   "id": "55c393e3",
   "metadata": {},
   "outputs": [],
   "source": [
    "#N = 1002 #How large shall the graphs become?\n",
    "#skip = 100 #Should we consider all graphs, or only every skip'th\n",
    "#r = 0.2\n",
    "\n",
    "eucl_norm = lambda x,y: torch.sqrt(torch.pow(x,2) + torch.pow(y, 2))\n",
    "\n",
    "def indicator_fct(x, y, distance, center):\n",
    "    z = (eucl_norm(x-center[0], y- center[1]) < distance)*1\n",
    "    return z\n",
    "\n",
    "#k = lambda x,y: x*y\n",
    "\n",
    "simp = Simpson()  # Initialize Simpson solver"
   ]
  },
  {
   "cell_type": "code",
   "execution_count": 9,
   "id": "cd68919e",
   "metadata": {},
   "outputs": [],
   "source": [
    "class meanIntegration(Layer):\n",
    "    def __init__(self, input_size, output_size):\n",
    "    #self.weights = torch.rand(output_size, input_size) - 0.5\n",
    "    #self.bias = torch.rand(1, output_size) - 0.5\n",
    "        self.weights = torch.rand(output_size, input_size) - 0.5\n",
    "    \n",
    "    # returns output for a given input\n",
    "    def forward(self, input_fct, radius):\n",
    "        self.input_fct = input_fct\n",
    "        self.radius = radius\n",
    "\n",
    "        g = lambda x,y, distance, center: indicator_fct(x, y, distance, center)*self.input_fct(x,y)\n",
    "            \n",
    "        #for i in range(0, len(positions)):\n",
    "         #   h = lambda x: g(x[:,0], x[:,1], r, positions[i])\n",
    "         #   l = lambda x: indicator_fct(x[:,0],x[:,1], r, positions[i])\n",
    "        #\n",
    "        \n",
    "        def output_fct(position):\n",
    "            h = lambda x: g(x[:,0], x[:,1], radius, position)\n",
    "            l = lambda x: indicator_fct(x[:,0],x[:,1], radius, position)\n",
    "        \n",
    "            int_of_f = simp.integrate(h,dim=2,N=1000000,integration_domain = [[0,1],[0,1]])\n",
    "            measure_Ball = simp.integrate(l,dim=2,N=1000000,integration_domain = [[0,1],[0,1]])\n",
    "        \n",
    "            return torch.tensor(int_of_f/measure_Ball)\n",
    "        \n",
    "        return output_fct\n",
    "        #values.append(torch.tensor(the_weight*(int_of_f/measure_Ball)))\n",
    "        #return torch.tensor(values)"
   ]
  },
  {
   "cell_type": "markdown",
   "id": "94203d03",
   "metadata": {},
   "source": [
    "mI = meanIntegration(1,1)"
   ]
  },
  {
   "cell_type": "markdown",
   "id": "006f93ee",
   "metadata": {},
   "source": [
    "new_fct = mI.forward(f, radius=0.2)"
   ]
  },
  {
   "cell_type": "markdown",
   "id": "7c2bf9ca",
   "metadata": {},
   "source": [
    "dataset"
   ]
  },
  {
   "cell_type": "markdown",
   "id": "466ba40b",
   "metadata": {},
   "source": [
    "new_fct(dataset.pos[0])"
   ]
  },
  {
   "cell_type": "markdown",
   "id": "b741b497",
   "metadata": {},
   "source": [
    "dataset.pos[0]"
   ]
  },
  {
   "cell_type": "markdown",
   "id": "8950e8d2",
   "metadata": {},
   "source": [
    "dataset = DL.get(101)"
   ]
  },
  {
   "cell_type": "markdown",
   "id": "e262bb11",
   "metadata": {},
   "source": [
    "dataset.pos"
   ]
  },
  {
   "cell_type": "code",
   "execution_count": 17,
   "id": "74f27be5",
   "metadata": {},
   "outputs": [],
   "source": [
    "hi = FCLayer(1,16)"
   ]
  },
  {
   "cell_type": "code",
   "execution_count": 18,
   "id": "3017e80b",
   "metadata": {},
   "outputs": [
    {
     "data": {
      "text/plain": [
       "tensor([[-0.4044007063,  0.1918748617,  0.4427467585,  0.1620479822,\n",
       "          0.1115856171, -0.2140949965,  0.4435559511, -0.0322675705,\n",
       "         -0.1191776991,  0.3757392168,  0.2646741867, -0.0608113408,\n",
       "         -0.2396572828,  0.0479356647,  0.2831321955,  0.2482095957]])"
      ]
     },
     "execution_count": 18,
     "metadata": {},
     "output_type": "execute_result"
    }
   ],
   "source": [
    "hi.bias"
   ]
  },
  {
   "cell_type": "code",
   "execution_count": 29,
   "id": "c7ae316a",
   "metadata": {},
   "outputs": [],
   "source": [
    "hi.set_bias(torch.zeros(1,16))"
   ]
  },
  {
   "cell_type": "code",
   "execution_count": 30,
   "id": "0fb100df",
   "metadata": {},
   "outputs": [
    {
     "data": {
      "text/plain": [
       "tensor([[0., 0., 0., 0., 0., 0., 0., 0., 0., 0., 0., 0., 0., 0., 0., 0.]])"
      ]
     },
     "execution_count": 30,
     "metadata": {},
     "output_type": "execute_result"
    }
   ],
   "source": [
    "hi.bias"
   ]
  },
  {
   "cell_type": "code",
   "execution_count": null,
   "id": "550b2176",
   "metadata": {},
   "outputs": [],
   "source": []
  }
 ],
 "metadata": {
  "kernelspec": {
   "display_name": "Python 3",
   "language": "python",
   "name": "python3"
  },
  "language_info": {
   "codemirror_mode": {
    "name": "ipython",
    "version": 3
   },
   "file_extension": ".py",
   "mimetype": "text/x-python",
   "name": "python",
   "nbconvert_exporter": "python",
   "pygments_lexer": "ipython3",
   "version": "3.8.12"
  }
 },
 "nbformat": 4,
 "nbformat_minor": 5
}
