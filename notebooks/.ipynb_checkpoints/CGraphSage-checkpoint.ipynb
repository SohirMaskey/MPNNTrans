{
 "cells": [
  {
   "cell_type": "markdown",
   "id": "c76d023d",
   "metadata": {},
   "source": [
    "class CGraphSage():\n",
    "    \n",
    "    def __init__(pos, root, fct = lambda x: x[0]*x[1] , transform=None, pre_transform=None, size=1002, skip=100):\n",
    "    \"\"\"\n",
    "    root = where the dataset should be stored. \n",
    "    This folder is split into raw_dir (downloaded dataset) and processed_dir (processed data)\n",
    "\n",
    "    \"\"\"\n",
    "    #super(RGGDataset, self).__init__(root, transform, pre_transform)\n",
    "    self.fct = fct #this is the function that we use for sampling things\n",
    "    self.size = size\n",
    "    self.skip = skip\n",
    "    self.root = root"
   ]
  },
  {
   "cell_type": "code",
   "execution_count": 1,
   "id": "63bd50cd",
   "metadata": {},
   "outputs": [
    {
     "name": "stderr",
     "output_type": "stream",
     "text": [
      "12:01:34|TQ-INFO| Initializing torchquad.\n",
      "12:01:35|TQ-INFO| __pyTorch VERSION:<module 'torch.version' from '/home/math/maskey/anaconda3/envs/pyg_cuda102/lib/python3.8/site-packages/torch/version.py'>\n",
      "12:01:35|TQ-INFO| __CUDNN VERSION:7605\n",
      "12:01:35|TQ-INFO| __Number of CUDA Devices:1\n",
      "12:01:35|TQ-INFO| Active CUDA Device: GPU0\n",
      "12:01:35|TQ-INFO| Setting default tensor type to cuda.Float32 (CUDA is initialized).\n"
     ]
    }
   ],
   "source": [
    "#!/usr/bin/env python\n",
    "# coding: utf-8\n",
    "\n",
    "# In[1]:\n",
    "\n",
    "\n",
    "import pickle #for saving and loading the dataset\n",
    "\n",
    "import numpy as np\n",
    "import networkx as nx\n",
    "import torch\n",
    "from torch_geometric.data import Data\n",
    "import time\n",
    "\n",
    "\n",
    "# In[2]:\n",
    "\n",
    "\n",
    "import random\n",
    "from torch_geometric.utils import from_networkx\n",
    "\n",
    "import matplotlib.pyplot as plt\n",
    "\n",
    "# In[13]:\n",
    "\n",
    "\n",
    "# For plotting\n",
    "\n",
    "# To avoid copying things to GPU memory,\n",
    "# ideally allocate everything in torch on the GPU\n",
    "# and avoid non-torch function calls\n",
    "torch.set_printoptions(precision=10) # Set displayed output precision to 10 digits\n",
    "\n",
    "from torchquad import enable_cuda # Necessary to enable GPU support\n",
    "from torchquad import Trapezoid, Simpson, Boole, MonteCarlo, VEGAS # The available integrators\n",
    "import torchquad\n",
    "\n",
    "\n",
    "# In[3]:\n",
    "\n",
    "\n",
    "from torch_geometric.nn import SAGEConv\n",
    "\n",
    "enable_cuda() # Use this to enable GPU support"
   ]
  },
  {
   "cell_type": "markdown",
   "id": "8757f2ee",
   "metadata": {},
   "source": [
    "import sys\n",
    "sys.path.insert(1,'../src')\n",
    "from DataLoader import RGGDataset\n",
    "\n",
    "DL = RGGDataset(root = '../input')\n",
    "\n",
    "data = DL.get(101)\n",
    "\n",
    "pos = data.pos"
   ]
  },
  {
   "cell_type": "code",
   "execution_count": 2,
   "id": "46a6c7f7",
   "metadata": {},
   "outputs": [],
   "source": [
    "N = 1002 #How large shall the graphs become?\n",
    "skip = 100 #Should we consider all graphs, or only every skip'th\n",
    "r = 0.2\n",
    "\n",
    "eucl_norm = lambda x,y: torch.sqrt(torch.pow(x,2) + torch.pow(y, 2))\n",
    "\n",
    "def indicator_fct(x, y, distance, center):\n",
    "    z = (eucl_norm(x-center[0], y- center[1]) < distance)*1\n",
    "    return z\n",
    "\n",
    "k = lambda x,y: x*y\n",
    "\n",
    "simp = Simpson()  # Initialize Simpson solver"
   ]
  },
  {
   "cell_type": "code",
   "execution_count": 4,
   "id": "c84de4fc",
   "metadata": {},
   "outputs": [],
   "source": [
    "def forward(positions, weight, fct=k):\n",
    "    \"\"\"\n",
    "    pipeline should be as follows in the main:\n",
    "    1. load model and its weights\n",
    "    2. load graph data and its positions\n",
    "    3. apply forward to return a torch.tensor with the c-GraphSage output for every position\n",
    "    \"\"\"\n",
    "    k = fct\n",
    "    g = lambda x,y, distance, center: indicator_fct(x, y, distance, center)*fct(x,y)\n",
    "    values = []\n",
    "    the_weight = weight\n",
    "    \n",
    "    for i in range(0, len(positions)):\n",
    "        h = lambda x: g(x[:,0], x[:,1], r, positions[i])\n",
    "        l = lambda x: indicator_fct(x[:,0],x[:,1], r, positions[i])\n",
    "        \n",
    "        int_of_f = simp.integrate(h,dim=2,N=1000000,integration_domain = [[0,1],[0,1]])\n",
    "        measure_Ball = simp.integrate(l,dim=2,N=1000000,integration_domain = [[0,1],[0,1]])\n",
    "        \n",
    "        values.append(torch.tensor(the_weight*(int_of_f/measure_Ball)))\n",
    "    return torch.tensor(values)\n",
    "        \n",
    "        \n",
    "    \"\"\"\n",
    "    for key, value in position.items():\n",
    "        h = lambda x: g(x[:,0], x[:,1], r, torch.tensor(value))\n",
    "        l = lambda x: indicator_fct(x[:,0],x[:,1], r, torch.tensor(value))\n",
    "        int_of_f = simp.integrate(h,dim=2,N=1000000,integration_domain = [[0,1],[0,1]])\n",
    "        measure_Ball = simp.integrate(l,dim=2,N=1000000,integration_domain = [[0,1],[0,1]])\n",
    "        error2 = the_weight*(int_of_f/measure_Ball) - gnn_output[key]\n",
    "        error = error + torch.pow(error2, 2)\n",
    "    error = torch.sqrt( (1/length)*error )\n",
    "    return error\n",
    "\n",
    "    \"\"\""
   ]
  },
  {
   "cell_type": "code",
   "execution_count": null,
   "id": "c4a63aa6",
   "metadata": {},
   "outputs": [],
   "source": [
    "#output = forward(fct = k, pos, weight = 0.5)"
   ]
  },
  {
   "cell_type": "code",
   "execution_count": null,
   "id": "d99bd4f9",
   "metadata": {},
   "outputs": [],
   "source": []
  }
 ],
 "metadata": {
  "kernelspec": {
   "display_name": "Python 3",
   "language": "python",
   "name": "python3"
  },
  "language_info": {
   "codemirror_mode": {
    "name": "ipython",
    "version": 3
   },
   "file_extension": ".py",
   "mimetype": "text/x-python",
   "name": "python",
   "nbconvert_exporter": "python",
   "pygments_lexer": "ipython3",
   "version": "3.8.12"
  }
 },
 "nbformat": 4,
 "nbformat_minor": 5
}
