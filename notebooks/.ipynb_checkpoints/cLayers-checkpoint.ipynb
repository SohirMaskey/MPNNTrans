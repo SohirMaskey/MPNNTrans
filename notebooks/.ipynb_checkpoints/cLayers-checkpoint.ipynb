{
 "cells": [
  {
   "cell_type": "code",
   "execution_count": 2,
   "id": "71fb25b5",
   "metadata": {},
   "outputs": [],
   "source": [
    "import numpy as np\n",
    "import networkx as nx\n",
    "import torch\n",
    "from torch_geometric.data import Data\n",
    "import time\n",
    "\n",
    "import random\n",
    "from torch_geometric.utils import from_networkx\n",
    "\n",
    "import matplotlib.pyplot as plt\n",
    "\n",
    "from torch_geometric.nn import SAGEConv"
   ]
  },
  {
   "cell_type": "code",
   "execution_count": 3,
   "id": "057f8b9c",
   "metadata": {},
   "outputs": [],
   "source": [
    "from torch_geometric.nn import MessagePassing\n",
    "from torch_geometric.utils import add_self_loops, degree"
   ]
  },
  {
   "cell_type": "code",
   "execution_count": 4,
   "id": "cebb4425",
   "metadata": {},
   "outputs": [],
   "source": [
    "import torch.nn.functional as F"
   ]
  },
  {
   "cell_type": "code",
   "execution_count": 6,
   "id": "85422f89",
   "metadata": {},
   "outputs": [],
   "source": [
    "import sys\n",
    "sys.path.insert(1,'../src')\n",
    "from DataLoader import RGGDataset"
   ]
  },
  {
   "cell_type": "code",
   "execution_count": 7,
   "id": "a8b27356",
   "metadata": {},
   "outputs": [],
   "source": [
    "DL = RGGDataset(root = '../input')"
   ]
  },
  {
   "cell_type": "code",
   "execution_count": 8,
   "id": "730a347d",
   "metadata": {},
   "outputs": [],
   "source": [
    "dataset = DL.get(1)"
   ]
  },
  {
   "cell_type": "code",
   "execution_count": 9,
   "id": "4be19720",
   "metadata": {},
   "outputs": [],
   "source": [
    "class GCN(torch.nn.Module):\n",
    "    def __init__(self):\n",
    "        super().__init__()\n",
    "        self.lin1 = torch.nn.Linear(1, 16)\n",
    "        self.lin2 = torch.nn.Linear(16, 1)\n",
    "        self.graphSage = SAGEConv(dataset.num_node_features, 1, root_weight=False, bias=False)\n",
    "\n",
    "        #self.graphSage = SAGEConv(DL.get(101).num_node_features,1 ,root_weight = False, bias = False)\n",
    "        \n",
    "    def forward(self, data):\n",
    "        x, edge_index = data.x, data.edge_index\n",
    "\n",
    "        x = self.lin1(x)\n",
    "        x = F.relu(x)\n",
    "        x = self.lin2(x)\n",
    "        #x = F.dropout(x, training=self.training)\n",
    "        x = self.graphSage(x, edge_index)\n",
    "\n",
    "        return x\n",
    "        #F.log_softmax(x, dim=1)"
   ]
  },
  {
   "cell_type": "code",
   "execution_count": 10,
   "id": "c6c3e834",
   "metadata": {},
   "outputs": [],
   "source": [
    "model = GCN()"
   ]
  },
  {
   "cell_type": "code",
   "execution_count": 11,
   "id": "b1596cfa",
   "metadata": {},
   "outputs": [
    {
     "name": "stderr",
     "output_type": "stream",
     "text": [
      "12:35:37|TQ-INFO| Initializing torchquad.\n"
     ]
    }
   ],
   "source": [
    "torch.set_printoptions(precision=10) # Set displayed output precision to 10 digits\n",
    "\n",
    "from torchquad import enable_cuda # Necessary to enable GPU support\n",
    "from torchquad import Trapezoid, Simpson, Boole, MonteCarlo, VEGAS # The available integrators\n",
    "import torchquad"
   ]
  },
  {
   "cell_type": "code",
   "execution_count": 12,
   "id": "d03a3b3f",
   "metadata": {},
   "outputs": [],
   "source": [
    "f = lambda x,y: torch.tensor(x*y)"
   ]
  },
  {
   "cell_type": "code",
   "execution_count": 13,
   "id": "8c0571cf",
   "metadata": {},
   "outputs": [],
   "source": [
    "class Layer:\n",
    "    def __init__(self):\n",
    "        self.input = None\n",
    "        self.output = None\n",
    "\n",
    "    # computes the output Y of a layer for a given input X\n",
    "    def forward_propagation(self, input):\n",
    "        raise NotImplementedError\n",
    "\n",
    "    # computes dE/dX for a given dE/dY (and update parameters if any)\n",
    "    def backward_propagation(self, output_error, learning_rate):\n",
    "        raise NotImplementedError"
   ]
  },
  {
   "cell_type": "code",
   "execution_count": 51,
   "id": "cb5c49ee",
   "metadata": {},
   "outputs": [],
   "source": [
    "class FCLayer(Layer):\n",
    "    # input_size = number of input neurons\n",
    "    # output_size = number of output neurons\n",
    "    def __init__(self, input_size, output_size):\n",
    "        self.weights = torch.rand(output_size, input_size) - 0.5\n",
    "        self.bias = torch.rand(1, output_size) - 0.5\n",
    "\n",
    "    # returns output for a given input\n",
    "    def forward(self, input_fct):\n",
    "        self.input_fct = input_fct\n",
    "        fct = lambda x,y: ((self.input_fct)(x,y)*(self.weights)).sum(-1) + self.bias\n",
    "        self.output = fct\n",
    "        return self.output\n",
    "    \n",
    "    def set_weights(tensor):\n",
    "        self.weights = tensor\n",
    "    \n",
    "    sef set_bias(tensor):\n",
    "        self.bias = tensor\n",
    "\n",
    "    # computes dE/dW, dE/dB for a given output_error=dE/dY. Returns input_error=dE/dX.\n",
    "    \"\"\"\n",
    "    def backward_propagation(self, output_error, learning_rate):\n",
    "        input_error = np.dot(output_error, self.weights.T)\n",
    "        weights_error = np.dot(self.input.T, output_error)\n",
    "        # dBias = output_error\n",
    "\n",
    "        # update parameters\n",
    "        self.weights -= learning_rate * weights_error\n",
    "        self.bias -= learning_rate * output_error\n",
    "        return input_error\n",
    "    \"\"\""
   ]
  },
  {
   "cell_type": "code",
   "execution_count": 52,
   "id": "9fb9c121",
   "metadata": {},
   "outputs": [],
   "source": [
    "cMPNN = FCLayer(1, 16)"
   ]
  },
  {
   "cell_type": "code",
   "execution_count": 53,
   "id": "a38dd016",
   "metadata": {},
   "outputs": [
    {
     "data": {
      "text/plain": [
       "<function __main__.FCLayer.forward.<locals>.<lambda>(x, y)>"
      ]
     },
     "execution_count": 53,
     "metadata": {},
     "output_type": "execute_result"
    }
   ],
   "source": [
    "cMPNN.forward(f)"
   ]
  },
  {
   "cell_type": "code",
   "execution_count": 54,
   "id": "d3841578",
   "metadata": {},
   "outputs": [],
   "source": [
    "hi = cMPNN.forward(f)"
   ]
  },
  {
   "cell_type": "code",
   "execution_count": 55,
   "id": "dc440de4",
   "metadata": {},
   "outputs": [
    {
     "data": {
      "text/plain": [
       "tensor([[-0.1967583299, -0.2048311830, -0.3349639177, -0.2060813308,\n",
       "          0.1067647338, -0.5917885900, -0.4871050715,  0.4597536325,\n",
       "         -0.6476574540, -0.4437047243, -0.0630155802,  0.1206921339,\n",
       "          0.5577008724, -0.0232710242,  0.7659677863, -0.2527092695]])"
      ]
     },
     "execution_count": 55,
     "metadata": {},
     "output_type": "execute_result"
    }
   ],
   "source": [
    "hi(1,1)"
   ]
  },
  {
   "cell_type": "code",
   "execution_count": 56,
   "id": "a947b32d",
   "metadata": {},
   "outputs": [
    {
     "data": {
      "text/plain": [
       "tensor([[ 0.2681354880],\n",
       "        [ 0.1216204166],\n",
       "        [-0.2315091491],\n",
       "        [ 0.0847809911],\n",
       "        [-0.2732670903],\n",
       "        [-0.3845587969],\n",
       "        [-0.0831683278],\n",
       "        [ 0.3073028326],\n",
       "        [-0.2804445624],\n",
       "        [-0.2475512624],\n",
       "        [ 0.0538121462],\n",
       "        [-0.2115073800],\n",
       "        [ 0.2077215910],\n",
       "        [-0.1267401576],\n",
       "        [ 0.4911285043],\n",
       "        [-0.0719053745]])"
      ]
     },
     "execution_count": 56,
     "metadata": {},
     "output_type": "execute_result"
    }
   ],
   "source": [
    "cMPNN.weights"
   ]
  },
  {
   "cell_type": "code",
   "execution_count": null,
   "id": "373d6dc1",
   "metadata": {},
   "outputs": [],
   "source": []
  }
 ],
 "metadata": {
  "kernelspec": {
   "display_name": "Python 3",
   "language": "python",
   "name": "python3"
  },
  "language_info": {
   "codemirror_mode": {
    "name": "ipython",
    "version": 3
   },
   "file_extension": ".py",
   "mimetype": "text/x-python",
   "name": "python",
   "nbconvert_exporter": "python",
   "pygments_lexer": "ipython3",
   "version": "3.8.12"
  }
 },
 "nbformat": 4,
 "nbformat_minor": 5
}
